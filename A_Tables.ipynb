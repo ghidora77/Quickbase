{
 "cells": [
  {
   "cell_type": "markdown",
   "source": [
    "# Create and Delete Tables\n",
    "This segment of code works with the QuickBase API to automatically create and delete tables as necessary. \n",
    "\n",
    "Modify the User Input section to configure the creation (or deletion) of each table. "
   ],
   "metadata": {
    "cell_id": "5c78290c510945fba180eacc2db3ad3d",
    "tags": [],
    "deepnote_cell_type": "markdown",
    "deepnote_cell_height": 156,
    "pycharm": {
     "name": "#%% md\n"
    }
   }
  },
  {
   "cell_type": "code",
   "metadata": {
    "cell_id": "051b402167ec44e2bf1d87c38ba76ab5",
    "tags": [],
    "deepnote_to_be_reexecuted": false,
    "source_hash": "27630c3c",
    "execution_start": 1657982170104,
    "execution_millis": 14,
    "deepnote_cell_type": "code",
    "deepnote_cell_height": 99,
    "pycharm": {
     "name": "#%%\n"
    }
   },
   "source": [
    "from f01_Tables import CreateTables, DeleteTables\n",
    "import os"
   ],
   "execution_count": null,
   "outputs": []
  },
  {
   "cell_type": "markdown",
   "source": [
    "#### Create Tables\n",
    "This module will create the tables. Use the inputs below to create each table, and comment out the function when complete - you can only run this once to create each table. "
   ],
   "metadata": {
    "cell_id": "8c27c2b4248349d1a5cbbfdc2bfff85c",
    "tags": [],
    "deepnote_cell_type": "markdown",
    "deepnote_cell_height": 110,
    "pycharm": {
     "name": "#%% md\n"
    }
   }
  },
  {
   "cell_type": "code",
   "metadata": {
    "cell_id": "3578052cfcd74c93a2c5f388549aac0d",
    "tags": [],
    "deepnote_to_be_reexecuted": false,
    "source_hash": "80fe25ec",
    "execution_start": 1657983807685,
    "execution_millis": 1,
    "owner_user_id": "658b2a16-1456-4994-b7e8-11257a829f64",
    "deepnote_cell_type": "code",
    "deepnote_cell_height": 225,
    "pycharm": {
     "name": "#%%\n"
    }
   },
   "source": [
    "### USER INPUT ###\n",
    "\n",
    "tableName = 'Library'\n",
    "description = 'The Library table contains information regarding the status of charts.'\n",
    "singleRecordName = 'Record'\n",
    "pluralRecordName = 'Records'\n",
    "key = (os.environ[\"QB_DEV\"])\n",
    "domain = 'https://builderprogram-ocampos.quickbase.com'\n",
    "appID = 'bsifdpwc9'"
   ],
   "execution_count": null,
   "outputs": []
  },
  {
   "cell_type": "markdown",
   "source": [],
   "metadata": {
    "collapsed": false,
    "pycharm": {
     "name": "#%% md\n"
    }
   }
  },
  {
   "cell_type": "code",
   "metadata": {
    "cell_id": "89113c71eb5a4e02af3f11e652688cdd",
    "tags": [],
    "deepnote_to_be_reexecuted": false,
    "source_hash": "c25e9d1d",
    "execution_start": 1657982179164,
    "execution_millis": 560,
    "deepnote_cell_type": "code",
    "deepnote_cell_height": 632,
    "pycharm": {
     "name": "#%%\n"
    }
   },
   "source": [
    "\"\"\"\n",
    "CreateTables(\n",
    "    tableName, \n",
    "    description, \n",
    "    singleRecordName, \n",
    "    pluralRecordName, \n",
    "    domain,\n",
    "    key, \n",
    "    appID\n",
    ")\n",
    "\"\"\""
   ],
   "execution_count": null,
   "outputs": [
    {
     "name": "stdout",
     "text": "{\n    \"id\": \"bsigtc9kz\",\n    \"name\": \"Library\",\n    \"description\": \"The Library table contains information regarding the status of charts.\",\n    \"alias\": \"_DBID_LIBRARY\",\n    \"nextFieldId\": 6,\n    \"defaultSortFieldId\": 2,\n    \"nextRecordId\": 1,\n    \"keyFieldId\": 3,\n    \"singleRecordName\": \"Record\",\n    \"pluralRecordName\": \"Records\",\n    \"defaultSortOrder\": \"DESC\",\n    \"created\": \"2022-07-16T14:36:19Z\",\n    \"updated\": \"2022-07-16T14:36:19Z\",\n    \"sizeLimit\": \"500 MB\",\n    \"spaceRemaining\": \"500 MB\",\n    \"spaceUsed\": \"0 KB\"\n}\n",
     "output_type": "stream"
    }
   ]
  },
  {
   "cell_type": "code",
   "metadata": {
    "cell_id": "b707dcb492bb406f8e83ee22b897a33e",
    "tags": [],
    "deepnote_to_be_reexecuted": false,
    "source_hash": "cd67042e",
    "execution_start": 1657982212413,
    "execution_millis": 1,
    "deepnote_cell_type": "code",
    "deepnote_cell_height": 99,
    "pycharm": {
     "name": "#%%\n"
    }
   },
   "source": [
    "tableName = 'Date Range'\n",
    "description = 'The Date Range contains the EIPLD and status of charts.'"
   ],
   "execution_count": null,
   "outputs": []
  },
  {
   "cell_type": "code",
   "metadata": {
    "cell_id": "b02ee75d80964750aed3fbb3ba5dd327",
    "tags": [],
    "deepnote_to_be_reexecuted": false,
    "source_hash": "c25e9d1d",
    "execution_start": 1657982296956,
    "execution_millis": 1122,
    "deepnote_cell_type": "code",
    "deepnote_cell_height": 632,
    "pycharm": {
     "name": "#%%\n"
    }
   },
   "source": [
    "\"\"\"\n",
    "CreateTables(\n",
    "    tableName, \n",
    "    description, \n",
    "    singleRecordName, \n",
    "    pluralRecordName, \n",
    "    domain,\n",
    "    key, \n",
    "    appID\n",
    ")\n",
    "\"\"\""
   ],
   "execution_count": null,
   "outputs": [
    {
     "name": "stdout",
     "text": "{\n    \"id\": \"bsigtfv68\",\n    \"name\": \"Date Range\",\n    \"description\": \"The Date Range contains the EIPLD and status of charts.\",\n    \"alias\": \"_DBID_DATE_RANGE\",\n    \"nextFieldId\": 6,\n    \"defaultSortFieldId\": 2,\n    \"nextRecordId\": 1,\n    \"keyFieldId\": 3,\n    \"singleRecordName\": \"Record\",\n    \"pluralRecordName\": \"Records\",\n    \"defaultSortOrder\": \"DESC\",\n    \"created\": \"2022-07-16T14:38:17Z\",\n    \"updated\": \"2022-07-16T14:38:17Z\",\n    \"sizeLimit\": \"500 MB\",\n    \"spaceRemaining\": \"500 MB\",\n    \"spaceUsed\": \"0 KB\"\n}\n",
     "output_type": "stream"
    }
   ]
  },
  {
   "cell_type": "markdown",
   "source": [
    "#### Delete Tables \n",
    "This module will delete the tables via the tableID. You can find this by looking at the URL, it's the last segment of text."
   ],
   "metadata": {
    "cell_id": "6e4ca0d5df33488e9c1d9fc99acf6222",
    "tags": [],
    "deepnote_cell_type": "markdown",
    "deepnote_cell_height": 88,
    "pycharm": {
     "name": "#%% md\n"
    }
   }
  },
  {
   "cell_type": "code",
   "metadata": {
    "cell_id": "fa26773e8dc7440eb3c95e67305de629",
    "tags": [],
    "deepnote_to_be_reexecuted": false,
    "source_hash": "fc883279",
    "execution_start": 1657918665270,
    "execution_millis": 2179003536,
    "deepnote_cell_type": "code",
    "deepnote_cell_height": 99,
    "pycharm": {
     "name": "#%%\n"
    }
   },
   "source": [
    "tableID = ''\n",
    "#DeleteTables(domain, appID, tableID, key)"
   ],
   "execution_count": null,
   "outputs": []
  },
  {
   "cell_type": "markdown",
   "source": [
    "<a style='text-decoration:none;line-height:16px;display:flex;color:#5B5B62;padding:10px;justify-content:end;' href='https://deepnote.com?utm_source=created-in-deepnote-cell&projectId=660b23f0-488c-483e-b35b-c233e1b583d1' target=\"_blank\">\n",
    "<img alt='Created in deepnote.com' style='display:inline;max-height:16px;margin:0px;margin-right:7.5px;' src='data:image/svg+xml;base64,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' > </img>\n",
    "Created in <span style='font-weight:600;margin-left:4px;'>Deepnote</span></a>"
   ],
   "metadata": {
    "tags": [],
    "created_in_deepnote_cell": true,
    "deepnote_cell_type": "markdown",
    "pycharm": {
     "name": "#%% md\n"
    }
   }
  }
 ],
 "nbformat": 4,
 "nbformat_minor": 2,
 "metadata": {
  "orig_nbformat": 2,
  "deepnote": {},
  "deepnote_notebook_id": "7bd3dfa7-72e0-41eb-9184-2b693a902613",
  "deepnote_execution_queue": []
 }
}