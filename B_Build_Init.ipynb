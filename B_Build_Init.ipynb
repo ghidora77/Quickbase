{
 "cells": [
  {
   "cell_type": "markdown",
   "source": "# Initial Build\n\nThis notebook will do the initial build of both the Library and Date Range and put them onto the storage location (currently Dropbox, but will switch to OneNote).\n\nThis script is designed to be run one time, and will create the initial tables that will go into QuickBase. \n",
   "metadata": {
    "cell_id": "ce03ba49-291b-44ce-bec2-689b31714a89",
    "tags": [],
    "deepnote_cell_type": "markdown",
    "deepnote_cell_height": 178
   }
  },
  {
   "cell_type": "code",
   "metadata": {
    "tags": [],
    "cell_id": "ec3d0105-fc13-4f4f-b3b7-d9055aecd7d9",
    "deepnote_to_be_reexecuted": false,
    "source_hash": "637f1c24",
    "execution_start": 1658075737971,
    "execution_millis": 909,
    "deepnote_cell_type": "code",
    "deepnote_cell_height": 153
   },
   "source": "import pandas as pd\nimport os\nfrom f_dropbox import to_dropbox\nfrom f02_BuildLibrary import BuildLibrary\nfrom f03_BuildDateRange import BuildDateRange",
   "execution_count": null,
   "outputs": []
  },
  {
   "cell_type": "markdown",
   "source": "### Library Dataset\nThis script outputs the Library dataset. ",
   "metadata": {
    "cell_id": "e206cef3c70540c780d440d86f0cc4cf",
    "tags": [],
    "owner_user_id": "658b2a16-1456-4994-b7e8-11257a829f64",
    "deepnote_cell_type": "markdown",
    "deepnote_cell_height": 100
   }
  },
  {
   "cell_type": "code",
   "metadata": {
    "cell_id": "17ababe951364142bd3495a62a50631a",
    "tags": [],
    "deepnote_to_be_reexecuted": false,
    "source_hash": "bf115cd3",
    "execution_start": 1658075738893,
    "execution_millis": 30224,
    "is_output_hidden": true,
    "deepnote_cell_type": "code",
    "deepnote_cell_height": 111
   },
   "source": "df_lib = BuildLibrary()",
   "execution_count": null,
   "outputs": [
    {
     "name": "stderr",
     "text": "/root/work/QuickBase/f02_BuildLibrary.py:39: FutureWarning: The default value of regex will change from True to False in a future version.\n  df.columns = df.columns.str.replace('data.', '')\n",
     "output_type": "stream"
    }
   ]
  },
  {
   "cell_type": "markdown",
   "source": "### Date Range\nThis script outputs the Date Range Dataset. ",
   "metadata": {
    "cell_id": "a0154426e97041b582d2b612362feed4",
    "tags": [],
    "deepnote_cell_type": "markdown",
    "deepnote_cell_height": 100
   }
  },
  {
   "cell_type": "code",
   "metadata": {
    "cell_id": "e93e3bb82eff4aa480e173b47a9816bd",
    "tags": [],
    "deepnote_to_be_reexecuted": false,
    "source_hash": "8a8a5f2c",
    "execution_start": 1658075769141,
    "execution_millis": 35328,
    "deepnote_cell_type": "code",
    "deepnote_cell_height": 81
   },
   "source": "df_date = BuildDateRange()",
   "execution_count": null,
   "outputs": []
  },
  {
   "cell_type": "markdown",
   "source": "### Output to Storage\nThis script will use the developer API to output the full datasets to the associated storage location. \n",
   "metadata": {
    "cell_id": "61cc6bfa836b4ea8a9e876283ad8c171",
    "tags": [],
    "deepnote_cell_type": "markdown",
    "deepnote_cell_height": 100
   }
  },
  {
   "cell_type": "code",
   "metadata": {
    "cell_id": "db1dbda7b88d44e083e6f5ee898d42fe",
    "tags": [],
    "deepnote_to_be_reexecuted": false,
    "source_hash": "a45cf51a",
    "execution_start": 1658075804470,
    "execution_millis": 21159,
    "deepnote_cell_type": "code",
    "deepnote_cell_height": 190,
    "deepnote_output_heights": [
     21
    ]
   },
   "source": "token = os.environ[\"DROPBOX02\"]\ndb_path = '/Library/'\nto_dropbox(df_lib, db_path, 'Library2.csv', token)\ndb_path = '/DateRange/'\nto_dropbox(df_date, db_path, 'DateRange2.csv', token)",
   "execution_count": null,
   "outputs": [
    {
     "output_type": "execute_result",
     "execution_count": 4,
     "data": {
      "text/plain": "'Complete'"
     },
     "metadata": {}
    }
   ]
  },
  {
   "cell_type": "markdown",
   "source": "<a style='text-decoration:none;line-height:16px;display:flex;color:#5B5B62;padding:10px;justify-content:end;' href='https://deepnote.com?utm_source=created-in-deepnote-cell&projectId=660b23f0-488c-483e-b35b-c233e1b583d1' target=\"_blank\">\n<img alt='Created in deepnote.com' style='display:inline;max-height:16px;margin:0px;margin-right:7.5px;' src='data:image/svg+xml;base64,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' > </img>\nCreated in <span style='font-weight:600;margin-left:4px;'>Deepnote</span></a>",
   "metadata": {
    "tags": [],
    "created_in_deepnote_cell": true,
    "deepnote_cell_type": "markdown"
   }
  }
 ],
 "nbformat": 4,
 "nbformat_minor": 2,
 "metadata": {
  "orig_nbformat": 2,
  "deepnote": {
   "is_reactive": false
  },
  "deepnote_notebook_id": "a4f01e53-d5f8-45df-9f1a-a0c99314d982",
  "deepnote_execution_queue": []
 }
}