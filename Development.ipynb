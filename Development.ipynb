{
 "cells": [
  {
   "cell_type": "markdown",
   "source": [
    "# Development\n",
    "\n",
    "Most of the functionality is complete.\n",
    "\n",
    "Functions are located in the 'Functions' directory.\n",
    "Scripts with 'A_' prefixes are consolidation scripts, designed to orchaestrate an entire process.\n",
    "\n",
    "The other scripts are functionalized processes, to improve debugging.\n",
    "\n",
    "## Main Tasks\n",
    "\n",
    "1. Determine if we need to move to OneDrive\n",
    "2. If we stick with Dropbox - permanent token (steps on refresh are publish)\n",
    "3. How to host with airflow\n",
    "4. Can we have this run locally?\n",
    "5. Probably need hosted\n",
    "6. AWS hosted Airflow?\n",
    "7. Test connections with Quickbase\n",
    "8. Erroring out because of dropbox tokens kept expiring\n"
   ],
   "metadata": {
    "collapsed": false,
    "pycharm": {
     "name": "#%% md\n"
    }
   }
  },
  {
   "cell_type": "code",
   "execution_count": null,
   "outputs": [],
   "source": [],
   "metadata": {
    "collapsed": false,
    "pycharm": {
     "name": "#%%\n"
    }
   }
  }
 ],
 "metadata": {
  "kernelspec": {
   "display_name": "Python 3",
   "language": "python",
   "name": "python3"
  },
  "language_info": {
   "codemirror_mode": {
    "name": "ipython",
    "version": 2
   },
   "file_extension": ".py",
   "mimetype": "text/x-python",
   "name": "python",
   "nbconvert_exporter": "python",
   "pygments_lexer": "ipython2",
   "version": "2.7.6"
  }
 },
 "nbformat": 4,
 "nbformat_minor": 0
}