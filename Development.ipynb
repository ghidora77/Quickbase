{
 "cells": [
  {
   "cell_type": "markdown",
   "source": [
    "# Quickbase Development\n",
    "\n",
    "The overall intent of this project is to consistently build two datasets, import it into Quickbase and ensure that it is up-to-date at all times.\n",
    "\n",
    "There are two datasets:\n",
    "\n",
    "## Date Range\n",
    "* Only four columns, with EIPLID, Status Date, Status and Name\n",
    "* Contains about 500k records without filtering\n",
    "* Is append - the earlier data doesn't change\n",
    "* Needs to run about once every 30 minutes\n",
    "\n",
    "## Library\n",
    "* Contains ~30 columns and ~65k records\n",
    "* Is constantly updated - earlier data may change and be updated\n",
    "* No distinct ID to identify the data\n",
    "* Needs to run about once per minute\n",
    "\n",
    "## Development\n",
    "\n",
    "Most of the functionality is complete, the code is functionalized, although there will be some fine-tuning.\n",
    "\n",
    "* Functions are located in the 'Functions' directory.\n",
    "* Scripts with 'A_' prefixes are consolidation scripts, designed to orchaestrate an entire process.\n",
    "* There are three major processes\n",
    "\n",
    "1. Update Date Range in Full\n",
    "2. Update Library in Full\n",
    "3. Update just the Library records that are new and then both append this to the Full Library dataset and create a temporary file with the recent records.\n",
    "\n",
    "\n",
    "## Main Tasks\n",
    "\n",
    "1. Determine if we need to move to OneDrive - another service\n",
    "2. If we stick with Dropbox - Permanent token (steps on refresh are publish)\n",
    "3. Best way to orchestrate - Airflow?\n",
    "4. Hosted on AWS? Astronomer?\n",
    "5. Test connections with Quickbase\n",
    "6. Figure out the best way to confirm limitations within Quickbase\n",
    "7. Follow along for a one-hour run of the system to ensure it's working correctly.\n"
   ],
   "metadata": {
    "collapsed": false,
    "pycharm": {
     "name": "#%% md\n"
    }
   }
  }
 ],
 "metadata": {
  "kernelspec": {
   "display_name": "Python 3",
   "language": "python",
   "name": "python3"
  },
  "language_info": {
   "codemirror_mode": {
    "name": "ipython",
    "version": 2
   },
   "file_extension": ".py",
   "mimetype": "text/x-python",
   "name": "python",
   "nbconvert_exporter": "python",
   "pygments_lexer": "ipython2",
   "version": "2.7.6"
  }
 },
 "nbformat": 4,
 "nbformat_minor": 0
}